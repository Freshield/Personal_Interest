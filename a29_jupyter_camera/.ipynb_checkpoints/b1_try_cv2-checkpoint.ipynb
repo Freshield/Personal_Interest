{
 "cells": [
  {
   "cell_type": "code",
   "execution_count": 2,
   "metadata": {},
   "outputs": [
    {
     "data": {
      "text/plain": [
       "None"
      ]
     },
     "metadata": {},
     "output_type": "display_data"
    }
   ],
   "source": [
    "import cv2\n",
    "from IPython.display import display, Image\n",
    "\n",
    "video = cv2.VideoCapture(0)\n",
    "display_handle = display(None, display_id=True)\n",
    "font = cv2.FONT_HERSHEY_SIMPLEX\n",
    "\n",
    "try:\n",
    "    while True:\n",
    "        _, frame = video.read()\n",
    "        frame = cv2.flip(frame, 1)\n",
    "        _, frame = cv2.imencode('.jpeg', frame)\n",
    "        frame = cv2.putText(\n",
    "            frame, 'Hello World', (50, 50), font, 1.2, (255, 0, 0), 2\n",
    "        )\n",
    "        display_handle.update(Image(data=frame.tobytes()))\n",
    "except KeyboardInterrupt:\n",
    "    pass\n",
    "finally:\n",
    "    video.release()\n",
    "    display_handle.update(None)"
   ]
  },
  {
   "cell_type": "code",
   "execution_count": null,
   "metadata": {},
   "outputs": [],
   "source": []
  }
 ],
 "metadata": {
  "kernelspec": {
   "display_name": "Python 3 (ipykernel)",
   "language": "python",
   "name": "python3"
  },
  "language_info": {
   "codemirror_mode": {
    "name": "ipython",
    "version": 3
   },
   "file_extension": ".py",
   "mimetype": "text/x-python",
   "name": "python",
   "nbconvert_exporter": "python",
   "pygments_lexer": "ipython3",
   "version": "3.9.15"
  }
 },
 "nbformat": 4,
 "nbformat_minor": 1
}
