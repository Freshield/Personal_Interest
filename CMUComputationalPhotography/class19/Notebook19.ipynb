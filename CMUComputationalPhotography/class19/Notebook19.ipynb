{
 "cells": [
  {
   "cell_type": "code",
   "execution_count": 1,
   "metadata": {},
   "outputs": [],
   "source": [
    "import cv2\n",
    "import numpy as np\n",
    "import matplotlib.pyplot as plt\n",
    "%matplotlib inline"
   ]
  },
  {
   "cell_type": "code",
   "execution_count": 2,
   "metadata": {},
   "outputs": [],
   "source": [
    "sample=cv2.imread(\"./imgs/patch1.png\", cv2.IMREAD_GRAYSCALE)"
   ]
  },
  {
   "cell_type": "markdown",
   "metadata": {},
   "source": [
    "Below is the main psudo code, lets implement it.\n",
    "```\n",
    "function GrowImage(SampleImage,Image,WindowSize)\n",
    "  while Image not filled do\n",
    "    progress = 0\n",
    "    PixelList = GetUnfilledNeighbors(Image)\n",
    "    foreach Pixel in PixelList do\n",
    "      Template = GetNeighborhoodWindow(Pixel)\n",
    "      BestMatches = FindMatches(Template, SampleImage)\n",
    "      BestMatch = RandomPick(BestMatches)\n",
    "      if (BestMatch.error < MaxErrThreshold) then\n",
    "        Pixel.value = BestMatch.value\n",
    "        progress = 1\n",
    "      end\n",
    "    end\n",
    "    if progress == 0 \n",
    "      then MaxErrThreshold = MaxErrThreshold * 1.1\n",
    "  end\n",
    "  return Image\n",
    "end\n",
    "```"
   ]
  },
  {
   "cell_type": "code",
   "execution_count": 4,
   "metadata": {},
   "outputs": [],
   "source": [
    "def growImg(imgSample, imgDst, imgMask, winSize):\n",
    "    while imgMask.size!=imgMask.sum():\n",
    "        progress = 0\n",
    "        pixelList = getUnfilledNeighbors(imgMask)\n",
    "        for pixel in pixelList:\n",
    "            imgTemplate = getNeighborhoodWindow(pixel, imgDst, winSize)\n",
    "            bestMatches = findMatches(imgTemplate, imgSample)\n",
    "            bestMatch   = randomPick(bestMatches)\n",
    "            if bestMatch[2] < maxErrThreshold:\n",
    "                imgDst[pixel[0], pixel[1]] = imgSample[bestMatch[0], bestMatch[1]]\n",
    "                imgMask[pixel[0], pixel[1]] = 1\n",
    "                progress = 1\n",
    "        if progress == 0:\n",
    "            maxErrThreshold = maxErrThreshold * 1.1\n",
    "    return imgDst"
   ]
  },
  {
   "cell_type": "code",
   "execution_count": 31,
   "metadata": {},
   "outputs": [
    {
     "data": {
      "image/png": "[encoded data removed]",
      "text/plain": [
       "<Figure size 432x288 with 1 Axes>"
      ]
     },
     "metadata": {
      "needs_background": "light"
     },
     "output_type": "display_data"
    },
    {
     "data": {
      "text/plain": [
       "True"
      ]
     },
     "execution_count": 31,
     "metadata": {},
     "output_type": "execute_result"
    }
   ],
   "source": [
    "def getUnfilledNeighbors(imgMask):\n",
    "    kernel = np.ones((3,3), np.uint8)\n",
    "    kernel[1,1]=0\n",
    "    imgNeighbourCount=cv2.filter2D(mask, -1, kernel)\n",
    "\n",
    "    newmask = mask.copy()\n",
    "    newmask=cv2.dilate(newmask, kernel=())\n",
    "    roi = newmask - mask\n",
    "    result = imgNeighbourCount*roi\n",
    "    pixelList=[]\n",
    "    for i in range(result.shape[0]):\n",
    "        for j in range(result.shape[1]):\n",
    "            if result[i,j]!=0:\n",
    "                pixelList.append([i,j])\n",
    "    \n",
    "    return result, pixelList\n",
    "\n",
    "def testGetUnfilledNeighbors():\n",
    "    mask = np.zeros((51,51), np.uint8)\n",
    "    mask[11:31, 11:31]=1\n",
    "    result,pixelList = getUnfilledNeighbors(mask)\n",
    "    plt.imshow(result)\n",
    "    plt.show()\n",
    "    if result[10,10]!=1 or result[31,31]!=1 or result[31,10]!=1 or result[10, 31]!=1:\n",
    "        print(\"Test Failed For Corners\")\n",
    "        return False\n",
    "    elif result[20,20]!=0:\n",
    "        print(\"Test Faield For Center\")\n",
    "        return False\n",
    "    elif result[10, 20]!=3:\n",
    "        print(\"Test Failed For Top\")\n",
    "        return False\n",
    "    else:\n",
    "        return True\n",
    "    \n",
    "testGetUnfilledNeighbors()\n"
   ]
  },
  {
   "cell_type": "code",
   "execution_count": 32,
   "metadata": {},
   "outputs": [],
   "source": [
    "def getNeighborhoodWindow(pixel, imgDst, winSize):\n",
    "    i=pixel[0]\n",
    "    j=pixel[1]\n",
    "    left=np.max(j - winSize,0)\n",
    "    right=np.min(imgDst.shape[1], j+winSize+1)\n",
    "    top=np.max(i - winSize, 0)\n",
    "    bottom = np.min(imgDst.shape[0], i + winSize+1)\n",
    "    \n",
    "    return imgDst[top:bottom, left:right]"
   ]
  },
  {
   "cell_type": "code",
   "execution_count": 34,
   "metadata": {},
   "outputs": [
    {
     "ename": "NameError",
     "evalue": "name 'imgDst' is not defined",
     "output_type": "error",
     "traceback": [
      "\u001b[0;31m---------------------------------------------------------------------------\u001b[0m",
      "\u001b[0;31mNameError\u001b[0m                                 Traceback (most recent call last)",
      "\u001b[0;32m<ipython-input-34-8b1f52bd0276>\u001b[0m in \u001b[0;36m<module>\u001b[0;34m\u001b[0m\n\u001b[1;32m      7\u001b[0m         \u001b[0;32mreturn\u001b[0m \u001b[0;32mTrue\u001b[0m\u001b[0;34m\u001b[0m\u001b[0;34m\u001b[0m\u001b[0m\n\u001b[1;32m      8\u001b[0m \u001b[0;34m\u001b[0m\u001b[0m\n\u001b[0;32m----> 9\u001b[0;31m \u001b[0mtestGetNeighborhoodWindow\u001b[0m\u001b[0;34m(\u001b[0m\u001b[0;34m)\u001b[0m\u001b[0;34m\u001b[0m\u001b[0;34m\u001b[0m\u001b[0m\n\u001b[0m",
      "\u001b[0;32m<ipython-input-34-8b1f52bd0276>\u001b[0m in \u001b[0;36mtestGetNeighborhoodWindow\u001b[0;34m()\u001b[0m\n\u001b[1;32m      1\u001b[0m \u001b[0;32mdef\u001b[0m \u001b[0mtestGetNeighborhoodWindow\u001b[0m\u001b[0;34m(\u001b[0m\u001b[0;34m)\u001b[0m\u001b[0;34m:\u001b[0m\u001b[0;34m\u001b[0m\u001b[0;34m\u001b[0m\u001b[0m\n\u001b[0;32m----> 2\u001b[0;31m     \u001b[0mroi\u001b[0m \u001b[0;34m=\u001b[0m \u001b[0mgetNeighborhoodWindow\u001b[0m\u001b[0;34m(\u001b[0m\u001b[0;34m[\u001b[0m\u001b[0;36m0\u001b[0m\u001b[0;34m,\u001b[0m\u001b[0;36m0\u001b[0m\u001b[0;34m]\u001b[0m\u001b[0;34m,\u001b[0m \u001b[0mimgDst\u001b[0m\u001b[0;34m,\u001b[0m \u001b[0;36m3\u001b[0m\u001b[0;34m)\u001b[0m\u001b[0;34m\u001b[0m\u001b[0;34m\u001b[0m\u001b[0m\n\u001b[0m\u001b[1;32m      3\u001b[0m     \u001b[0;32mif\u001b[0m \u001b[0mroi\u001b[0m\u001b[0;34m.\u001b[0m\u001b[0mshape\u001b[0m \u001b[0;34m!=\u001b[0m \u001b[0;34m(\u001b[0m\u001b[0;36m3\u001b[0m\u001b[0;34m,\u001b[0m \u001b[0;36m3\u001b[0m\u001b[0;34m)\u001b[0m\u001b[0;34m:\u001b[0m\u001b[0;34m\u001b[0m\u001b[0;34m\u001b[0m\u001b[0m\n\u001b[1;32m      4\u001b[0m         \u001b[0mprint\u001b[0m\u001b[0;34m(\u001b[0m\u001b[0;34m\"Error: testGetNeighborhoodWindow\"\u001b[0m\u001b[0;34m)\u001b[0m\u001b[0;34m\u001b[0m\u001b[0;34m\u001b[0m\u001b[0m\n\u001b[1;32m      5\u001b[0m         \u001b[0;32mreturn\u001b[0m \u001b[0;32mFalse\u001b[0m\u001b[0;34m\u001b[0m\u001b[0;34m\u001b[0m\u001b[0m\n",
      "\u001b[0;31mNameError\u001b[0m: name 'imgDst' is not defined"
     ]
    }
   ],
   "source": [
    "def testGetNeighborhoodWindow():\n",
    "    mask = np.zeros((51,51), np.uint8)\n",
    "    mask[11:31, 11:31]=1\n",
    "    \n",
    "    roi = getNeighborhoodWindow([0,0], imgDst, 3)\n",
    "    if roi.shape != (3, 3):\n",
    "        print(\"Error: testGetNeighborhoodWindow\")\n",
    "        return False\n",
    "    else:\n",
    "        return True\n",
    "    \n",
    "testGetNeighborhoodWindow()"
   ]
  },
  {
   "cell_type": "code",
   "execution_count": null,
   "metadata": {},
   "outputs": [],
   "source": []
  }
 ],
 "metadata": {
  "kernelspec": {
   "display_name": "Python 3",
   "language": "python",
   "name": "python3"
  },
  "language_info": {
   "codemirror_mode": {
    "name": "ipython",
    "version": 3
   },
   "file_extension": ".py",
   "mimetype": "text/x-python",
   "name": "python",
   "nbconvert_exporter": "python",
   "pygments_lexer": "ipython3",
   "version": "3.7.1"
  }
 },
 "nbformat": 4,
 "nbformat_minor": 2
}
