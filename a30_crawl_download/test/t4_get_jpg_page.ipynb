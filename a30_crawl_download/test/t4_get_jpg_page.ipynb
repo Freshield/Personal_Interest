{
 "cells": [
  {
   "cell_type": "code",
   "execution_count": 1,
   "metadata": {
    "collapsed": true
   },
   "outputs": [],
   "source": [
    "import json\n",
    "from bs4 import BeautifulSoup"
   ]
  },
  {
   "cell_type": "code",
   "execution_count": 2,
   "outputs": [],
   "source": [
    "with open('../data/test1.html', 'r') as f:\n",
    "    html_str = f.read()\n",
    "soup = BeautifulSoup(html_str, 'html.parser')"
   ],
   "metadata": {
    "collapsed": false
   }
  },
  {
   "cell_type": "code",
   "execution_count": 3,
   "outputs": [
    {
     "data": {
      "text/plain": "[<img id=\"MainImage\" onload=\"onloadMainImage(this);\" src=\"HTTPS://www.documentchecker.com/rdo.dll/getpict?username=Demo Slope.User&amp;cookieid=&amp;Pictname=Paspoorten/A/AFG/AFG_P8/JPG/AFG_P8_Datapage\"/>]"
     },
     "execution_count": 3,
     "metadata": {},
     "output_type": "execute_result"
    }
   ],
   "source": [
    "soup.find_all('img', id='MainImage')"
   ],
   "metadata": {
    "collapsed": false
   }
  },
  {
   "cell_type": "code",
   "execution_count": 5,
   "outputs": [],
   "source": [
    "img = soup.find('img', id='MainImage')"
   ],
   "metadata": {
    "collapsed": false
   }
  },
  {
   "cell_type": "code",
   "execution_count": 9,
   "outputs": [],
   "source": [
    "src = img.attrs['src'].lower()"
   ],
   "metadata": {
    "collapsed": false
   }
  },
  {
   "cell_type": "code",
   "execution_count": 10,
   "outputs": [
    {
     "data": {
      "text/plain": "'https://www.documentchecker.com/rdo.dll/getpict?username=demo slope.user&cookieid=&pictname=paspoorten/a/afg/afg_p8/jpg/afg_p8_datapage'"
     },
     "execution_count": 10,
     "metadata": {},
     "output_type": "execute_result"
    }
   ],
   "source": [
    "src"
   ],
   "metadata": {
    "collapsed": false
   }
  },
  {
   "cell_type": "code",
   "execution_count": null,
   "outputs": [],
   "source": [
    "def get_img_url(html_str):\n",
    "    soup = BeautifulSoup(html_str, 'html.parser')\n",
    "    soup.find_all('img', id='MainImage')\n",
    "    img = soup.find('img', id='MainImage')\n",
    "    src = img.attrs['src'].lower()\n",
    "\n",
    "    return src"
   ],
   "metadata": {
    "collapsed": false
   }
  }
 ],
 "metadata": {
  "kernelspec": {
   "display_name": "Python 3",
   "language": "python",
   "name": "python3"
  },
  "language_info": {
   "codemirror_mode": {
    "name": "ipython",
    "version": 2
   },
   "file_extension": ".py",
   "mimetype": "text/x-python",
   "name": "python",
   "nbconvert_exporter": "python",
   "pygments_lexer": "ipython2",
   "version": "2.7.6"
  }
 },
 "nbformat": 4,
 "nbformat_minor": 0
}
