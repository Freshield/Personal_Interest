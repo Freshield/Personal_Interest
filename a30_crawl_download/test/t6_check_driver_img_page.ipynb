{
 "cells": [
  {
   "cell_type": "code",
   "execution_count": 1,
   "metadata": {
    "collapsed": true
   },
   "outputs": [],
   "source": [
    "import json\n",
    "from bs4 import BeautifulSoup"
   ]
  },
  {
   "cell_type": "code",
   "execution_count": 2,
   "outputs": [],
   "source": [
    "with open('../data/test_driver_img.html', 'r') as f:\n",
    "    html_str = f.read()\n",
    "soup = BeautifulSoup(html_str, 'html.parser')"
   ],
   "metadata": {
    "collapsed": false
   }
  },
  {
   "cell_type": "code",
   "execution_count": 4,
   "outputs": [],
   "source": [
    "thumb_list = soup.find_all('img', class_='zoom-thumb')"
   ],
   "metadata": {
    "collapsed": false
   }
  },
  {
   "cell_type": "code",
   "execution_count": 5,
   "outputs": [
    {
     "data": {
      "text/plain": "2"
     },
     "execution_count": 5,
     "metadata": {},
     "output_type": "execute_result"
    }
   ],
   "source": [
    "len(thumb_list)"
   ],
   "metadata": {
    "collapsed": false
   }
  },
  {
   "cell_type": "code",
   "execution_count": 6,
   "outputs": [],
   "source": [
    "thumb = thumb_list[0]"
   ],
   "metadata": {
    "collapsed": false
   }
  },
  {
   "cell_type": "code",
   "execution_count": 7,
   "outputs": [
    {
     "data": {
      "text/plain": "<img class=\"zoom-thumb\" src=\"HTTPS://www.documentchecker.com/rdo.dll/getpictnad?username=demo slope.user&amp;cookieid=&amp;pictname=Alberta/2018/Drivers License_AllAges_Default/zoom/Alberta_2018_Drivers License_AllAges_Default_Front_files/thumb.jpg\" style=\"width: 506px; height: 320px;\"/>"
     },
     "execution_count": 7,
     "metadata": {},
     "output_type": "execute_result"
    }
   ],
   "source": [
    "thumb"
   ],
   "metadata": {
    "collapsed": false
   }
  },
  {
   "cell_type": "code",
   "execution_count": 8,
   "outputs": [
    {
     "data": {
      "text/plain": "'https://www.documentchecker.com/rdo.dll/getpictnad?username=demo slope.user&cookieid=&pictname=alberta/2018/drivers license_allages_default/zoom/alberta_2018_drivers license_allages_default_front_files/thumb.jpg'"
     },
     "execution_count": 8,
     "metadata": {},
     "output_type": "execute_result"
    }
   ],
   "source": [
    "thumb.attrs['src'].lower()"
   ],
   "metadata": {
    "collapsed": false
   }
  },
  {
   "cell_type": "code",
   "execution_count": 9,
   "outputs": [],
   "source": [
    "def get_driver_img_url(html_str):\n",
    "    soup = BeautifulSoup(html_str, 'html.parser')\n",
    "    thumb_list = soup.find_all('img', class_='zoom-thumb')\n",
    "    driver_img_url_list = []\n",
    "    for thumb in thumb_list:\n",
    "        url = thumb.attrs['src'].lower()\n",
    "        driver_img_url_list.append(url)\n",
    "\n",
    "    return driver_img_url_list\n"
   ],
   "metadata": {
    "collapsed": false
   }
  },
  {
   "cell_type": "code",
   "execution_count": 10,
   "outputs": [
    {
     "data": {
      "text/plain": "['https://www.documentchecker.com/rdo.dll/getpictnad?username=demo slope.user&cookieid=&pictname=alberta/2018/drivers license_allages_default/zoom/alberta_2018_drivers license_allages_default_front_files/thumb.jpg',\n 'https://www.documentchecker.com/rdo.dll/getpictnad?username=demo slope.user&cookieid=&pictname=alberta/2018/drivers license_allages_default/zoom/alberta_2018_drivers license_allages_default_back_files/thumb.jpg']"
     },
     "execution_count": 10,
     "metadata": {},
     "output_type": "execute_result"
    }
   ],
   "source": [
    "get_driver_img_url(html_str)"
   ],
   "metadata": {
    "collapsed": false
   }
  },
  {
   "cell_type": "code",
   "execution_count": null,
   "outputs": [],
   "source": [],
   "metadata": {
    "collapsed": false
   }
  }
 ],
 "metadata": {
  "kernelspec": {
   "display_name": "Python 3",
   "language": "python",
   "name": "python3"
  },
  "language_info": {
   "codemirror_mode": {
    "name": "ipython",
    "version": 2
   },
   "file_extension": ".py",
   "mimetype": "text/x-python",
   "name": "python",
   "nbconvert_exporter": "python",
   "pygments_lexer": "ipython2",
   "version": "2.7.6"
  }
 },
 "nbformat": 4,
 "nbformat_minor": 0
}
