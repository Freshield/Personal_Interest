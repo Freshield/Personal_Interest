{
 "cells": [
  {
   "cell_type": "code",
   "execution_count": 1,
   "metadata": {
    "collapsed": true
   },
   "outputs": [],
   "source": [
    "import json\n",
    "from bs4 import BeautifulSoup"
   ]
  },
  {
   "cell_type": "code",
   "execution_count": 4,
   "outputs": [],
   "source": [
    "with open('../data/test_drive_home.html', 'r') as f:\n",
    "    html_str = f.read()\n",
    "soup = BeautifulSoup(html_str, 'html.parser')"
   ],
   "metadata": {
    "collapsed": false
   }
  },
  {
   "cell_type": "code",
   "execution_count": 15,
   "outputs": [],
   "source": [
    "td_list = soup.find_all('td', class_='thumbnail')"
   ],
   "metadata": {
    "collapsed": false
   }
  },
  {
   "cell_type": "code",
   "execution_count": 16,
   "outputs": [
    {
     "data": {
      "text/plain": "6"
     },
     "execution_count": 16,
     "metadata": {},
     "output_type": "execute_result"
    }
   ],
   "source": [
    "len(td_list)"
   ],
   "metadata": {
    "collapsed": false
   }
  },
  {
   "cell_type": "code",
   "execution_count": 17,
   "outputs": [],
   "source": [
    "td = td_list[0]"
   ],
   "metadata": {
    "collapsed": false
   }
  },
  {
   "cell_type": "code",
   "execution_count": 19,
   "outputs": [
    {
     "data": {
      "text/plain": "'HTTPS://www.documentchecker.com/rdo.dll/getdoc?docname=NAD_SHOWDOC&username=Demo Slope.User&cookieid=&language=1033&StateCode=AB&CardID=2284&CardSeries=2018'"
     },
     "execution_count": 19,
     "metadata": {},
     "output_type": "execute_result"
    }
   ],
   "source": [
    "td.find('a').attrs['href']"
   ],
   "metadata": {
    "collapsed": false
   }
  },
  {
   "cell_type": "code",
   "execution_count": 23,
   "outputs": [],
   "source": [
    "def get_driver_url_list(html_str):\n",
    "    soup = BeautifulSoup(html_str, 'html.parser')\n",
    "    td_list = soup.find_all('td', class_='thumbnail')\n",
    "    driver_url_list = []\n",
    "    for td in td_list:\n",
    "        driver_url = td.find('a').attrs['href'].lower()\n",
    "        driver_url_list.append(driver_url)\n",
    "\n",
    "    return driver_url_list"
   ],
   "metadata": {
    "collapsed": false
   }
  },
  {
   "cell_type": "code",
   "execution_count": 24,
   "outputs": [
    {
     "data": {
      "text/plain": "['https://www.documentchecker.com/rdo.dll/getdoc?docname=nad_showdoc&username=demo slope.user&cookieid=&language=1033&statecode=ab&cardid=2284&cardseries=2018',\n 'https://www.documentchecker.com/rdo.dll/getdoc?docname=nad_showdoc&username=demo slope.user&cookieid=&language=1033&statecode=ab&cardid=2287&cardseries=2018',\n 'https://www.documentchecker.com/rdo.dll/getdoc?docname=nad_showdoc&username=demo slope.user&cookieid=&language=1033&statecode=ab&cardid=1150&cardseries=2009',\n 'https://www.documentchecker.com/rdo.dll/getdoc?docname=nad_showdoc&username=demo slope.user&cookieid=&language=1033&statecode=ab&cardid=1151&cardseries=2009',\n 'https://www.documentchecker.com/rdo.dll/getdoc?docname=nad_showdoc&username=demo slope.user&cookieid=&language=1033&statecode=ab&cardid=1148&cardseries=2003',\n 'https://www.documentchecker.com/rdo.dll/getdoc?docname=nad_showdoc&username=demo slope.user&cookieid=&language=1033&statecode=ab&cardid=1149&cardseries=2003']"
     },
     "execution_count": 24,
     "metadata": {},
     "output_type": "execute_result"
    }
   ],
   "source": [
    "get_driver_url_list(html_str)"
   ],
   "metadata": {
    "collapsed": false
   }
  },
  {
   "cell_type": "code",
   "execution_count": 25,
   "outputs": [
    {
     "data": {
      "text/plain": "6"
     },
     "execution_count": 25,
     "metadata": {},
     "output_type": "execute_result"
    }
   ],
   "source": [
    "len(get_driver_url_list(html_str))"
   ],
   "metadata": {
    "collapsed": false
   }
  },
  {
   "cell_type": "code",
   "execution_count": null,
   "outputs": [],
   "source": [],
   "metadata": {
    "collapsed": false
   }
  }
 ],
 "metadata": {
  "kernelspec": {
   "display_name": "Python 3",
   "language": "python",
   "name": "python3"
  },
  "language_info": {
   "codemirror_mode": {
    "name": "ipython",
    "version": 2
   },
   "file_extension": ".py",
   "mimetype": "text/x-python",
   "name": "python",
   "nbconvert_exporter": "python",
   "pygments_lexer": "ipython2",
   "version": "2.7.6"
  }
 },
 "nbformat": 4,
 "nbformat_minor": 0
}
