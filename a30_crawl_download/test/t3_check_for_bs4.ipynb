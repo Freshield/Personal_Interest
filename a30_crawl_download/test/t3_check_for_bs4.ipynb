{
 "cells": [
  {
   "cell_type": "code",
   "execution_count": 3,
   "metadata": {
    "collapsed": true
   },
   "outputs": [],
   "source": [
    "import json\n",
    "from bs4 import BeautifulSoup"
   ]
  },
  {
   "cell_type": "code",
   "execution_count": 21,
   "outputs": [],
   "source": [
    "html_path = '../data/test.html'\n",
    "with open(html_path, 'r') as f:\n",
    "    html_str = f.read()\n",
    "html_str = html_str.split('<!-- Emergency passports -->')[0]\n",
    "html_str = html_str.split('<!-- National Passports -->')[-1]"
   ],
   "metadata": {
    "collapsed": false
   }
  },
  {
   "cell_type": "code",
   "execution_count": 22,
   "outputs": [],
   "source": [
    "soup = BeautifulSoup(html_str, 'html.parser')"
   ],
   "metadata": {
    "collapsed": false
   }
  },
  {
   "cell_type": "code",
   "execution_count": 23,
   "outputs": [],
   "source": [
    "containers = soup.find_all('div', class_='thumbcontainer')"
   ],
   "metadata": {
    "collapsed": false
   }
  },
  {
   "cell_type": "code",
   "execution_count": 24,
   "outputs": [
    {
     "data": {
      "text/plain": "8"
     },
     "execution_count": 24,
     "metadata": {},
     "output_type": "execute_result"
    }
   ],
   "source": [
    "len(containers)"
   ],
   "metadata": {
    "collapsed": false
   }
  },
  {
   "cell_type": "code",
   "execution_count": 25,
   "outputs": [
    {
     "data": {
      "text/plain": "[<div class=\"thumbcontainer\">\n <script>\n s = '<div class=\"image\" ';\n if (1) \n {\n s += ' onMouseOver=\"$(this).find(\\'img\\').attr(\\'src\\',\\'HTTPS://www.documentchecker.com/rdo.dll/getpict?PictName=Paspoorten/A/AFG/AFG_P8/JPG/AFG_P8_Datapagethumbnail\\');\" onMouseOut=\"$(this).find(\\'img\\').attr(\\'src\\',\\'HTTPS://www.documentchecker.com/rdo.dll/getpict?PictName=Paspoorten/A/AFG/AFG_P8/JPG/AFG_P8_Coverthumbnail&username=Demo Slope.User&cookieid=\\');\"';\n }\n s += '>';\n s += '<a href=\"javascript:onClickThumbnail(\\'AFG\\',\\'P8\\',\\'P\\'); void 0;\"><img class=\"default\" src=\"HTTPS://www.documentchecker.com/rdo.dll/getpict?PictName=Paspoorten/A/AFG/AFG_P8/JPG/AFG_P8_Coverthumbnail&username=Demo Slope.User&cookieid=\"></a>';\n s += '</div>';\n document.write(s);\n </script><div class=\"image\" onmouseout=\"$(this).find('img').attr('src','HTTPS://www.documentchecker.com/rdo.dll/getpict?PictName=Paspoorten/A/AFG/AFG_P8/JPG/AFG_P8_Coverthumbnail&amp;username=Demo Slope.User&amp;cookieid=');\" onmouseover=\"$(this).find('img').attr('src','HTTPS://www.documentchecker.com/rdo.dll/getpict?PictName=Paspoorten/A/AFG/AFG_P8/JPG/AFG_P8_Datapagethumbnail');\"><a href=\"javascript:onClickThumbnail('AFG','P8','P'); void 0;\"><img class=\"default\" src=\"HTTPS://www.documentchecker.com/rdo.dll/getpict?PictName=Paspoorten/A/AFG/AFG_P8/JPG/AFG_P8_Coverthumbnail&amp;username=Demo Slope.User&amp;cookieid=\"/></a></div>\n <div class=\"info\">\n <a href=\"javascript: onClickThumbnail('AFG','P8','P'); void 0;\">\n <b>P8</b>\n </a>\n <script>\t\n if (0)\n {\n \tdocument.write('&#160;<a href=\"JavaScript:void 0\" onClick=\"JSViewAnnotationHelper(\\'AFG\\',\\'P8\\'); return false;\" onMouseOver=\"window.status = \\'\\'; return true;\" onMouseOut =\"window.status = \\'\\'; return true;\"><img border=\"0\" src=\"HTTPS://www.documentchecker.com/rdo.dll/getartwork?pictname=img/annotation.gif\" alt=\"note text\"></a>&nbsp;');\n }\n </script>\n <br/>\n <div class=\"IdTypeText\" title=\"ordinary passport\">ordinary passport</div>\n 2017\n </div>\n </div>,\n <div class=\"thumbcontainer\">\n <script>\n s = '<div class=\"image\" ';\n if (1) \n {\n s += ' onMouseOver=\"$(this).find(\\'img\\').attr(\\'src\\',\\'HTTPS://www.documentchecker.com/rdo.dll/getpict?PictName=Paspoorten/A/AFG/AFG_P7/JPG/AFG_P7_Datapagethumbnail\\');\" onMouseOut=\"$(this).find(\\'img\\').attr(\\'src\\',\\'HTTPS://www.documentchecker.com/rdo.dll/getpict?PictName=Paspoorten/A/AFG/AFG_P7/JPG/AFG_P7_Coverthumbnail&username=Demo Slope.User&cookieid=\\');\"';\n }\n s += '>';\n s += '<a href=\"javascript:onClickThumbnail(\\'AFG\\',\\'P7\\',\\'P\\'); void 0;\"><img class=\"default\" src=\"HTTPS://www.documentchecker.com/rdo.dll/getpict?PictName=Paspoorten/A/AFG/AFG_P7/JPG/AFG_P7_Coverthumbnail&username=Demo Slope.User&cookieid=\"></a>';\n s += '</div>';\n document.write(s);\n </script><div class=\"image\" onmouseout=\"$(this).find('img').attr('src','HTTPS://www.documentchecker.com/rdo.dll/getpict?PictName=Paspoorten/A/AFG/AFG_P7/JPG/AFG_P7_Coverthumbnail&amp;username=Demo Slope.User&amp;cookieid=');\" onmouseover=\"$(this).find('img').attr('src','HTTPS://www.documentchecker.com/rdo.dll/getpict?PictName=Paspoorten/A/AFG/AFG_P7/JPG/AFG_P7_Datapagethumbnail');\"><a href=\"javascript:onClickThumbnail('AFG','P7','P'); void 0;\"><img class=\"default\" src=\"HTTPS://www.documentchecker.com/rdo.dll/getpict?PictName=Paspoorten/A/AFG/AFG_P7/JPG/AFG_P7_Coverthumbnail&amp;username=Demo Slope.User&amp;cookieid=\"/></a></div>\n <div class=\"info\">\n <a href=\"javascript: onClickThumbnail('AFG','P7','P'); void 0;\">\n <b>P7</b>\n </a>\n <script>\t\n if (0)\n {\n \tdocument.write('&#160;<a href=\"JavaScript:void 0\" onClick=\"JSViewAnnotationHelper(\\'AFG\\',\\'P7\\'); return false;\" onMouseOver=\"window.status = \\'\\'; return true;\" onMouseOut =\"window.status = \\'\\'; return true;\"><img border=\"0\" src=\"HTTPS://www.documentchecker.com/rdo.dll/getartwork?pictname=img/annotation.gif\" alt=\"note text\"></a>&nbsp;');\n }\n </script>\n <br/>\n <div class=\"IdTypeText\" title=\"ordinary passport\">ordinary passport</div>\n 2016\n </div>\n </div>,\n <div class=\"thumbcontainer\">\n <script>\n s = '<div class=\"image\" ';\n if (1) \n {\n s += ' onMouseOver=\"$(this).find(\\'img\\').attr(\\'src\\',\\'HTTPS://www.documentchecker.com/rdo.dll/getpict?PictName=Paspoorten/A/AFG/AFG_P5/JPG/AFG_P5_Datapagethumbnail\\');\" onMouseOut=\"$(this).find(\\'img\\').attr(\\'src\\',\\'HTTPS://www.documentchecker.com/rdo.dll/getpict?PictName=Paspoorten/A/AFG/AFG_P5/JPG/AFG_P5_Coverthumbnail&username=Demo Slope.User&cookieid=\\');\"';\n }\n s += '>';\n s += '<a href=\"javascript:onClickThumbnail(\\'AFG\\',\\'P5\\',\\'P\\'); void 0;\"><img class=\"default\" src=\"HTTPS://www.documentchecker.com/rdo.dll/getpict?PictName=Paspoorten/A/AFG/AFG_P5/JPG/AFG_P5_Coverthumbnail&username=Demo Slope.User&cookieid=\"></a>';\n s += '</div>';\n document.write(s);\n </script><div class=\"image\" onmouseout=\"$(this).find('img').attr('src','HTTPS://www.documentchecker.com/rdo.dll/getpict?PictName=Paspoorten/A/AFG/AFG_P5/JPG/AFG_P5_Coverthumbnail&amp;username=Demo Slope.User&amp;cookieid=');\" onmouseover=\"$(this).find('img').attr('src','HTTPS://www.documentchecker.com/rdo.dll/getpict?PictName=Paspoorten/A/AFG/AFG_P5/JPG/AFG_P5_Datapagethumbnail');\"><a href=\"javascript:onClickThumbnail('AFG','P5','P'); void 0;\"><img class=\"default\" src=\"HTTPS://www.documentchecker.com/rdo.dll/getpict?PictName=Paspoorten/A/AFG/AFG_P5/JPG/AFG_P5_Coverthumbnail&amp;username=Demo Slope.User&amp;cookieid=\"/></a></div>\n <div class=\"info\">\n <a href=\"javascript: onClickThumbnail('AFG','P5','P'); void 0;\">\n <b>P5</b>\n </a>\n <script>\t\n if (0)\n {\n \tdocument.write('&#160;<a href=\"JavaScript:void 0\" onClick=\"JSViewAnnotationHelper(\\'AFG\\',\\'P5\\'); return false;\" onMouseOver=\"window.status = \\'\\'; return true;\" onMouseOut =\"window.status = \\'\\'; return true;\"><img border=\"0\" src=\"HTTPS://www.documentchecker.com/rdo.dll/getartwork?pictname=img/annotation.gif\" alt=\"note text\"></a>&nbsp;');\n }\n </script>\n <br/>\n <div class=\"IdTypeText\" title=\"ordinary passport\">ordinary passport</div>\n 2013\n </div>\n </div>,\n <div class=\"thumbcontainer\">\n <script>\n s = '<div class=\"image\" ';\n if (1) \n {\n s += ' onMouseOver=\"$(this).find(\\'img\\').attr(\\'src\\',\\'HTTPS://www.documentchecker.com/rdo.dll/getpict?PictName=Paspoorten/A/AFG/AFG_P6/JPG/AFG_P6_Datapagethumbnail\\');\" onMouseOut=\"$(this).find(\\'img\\').attr(\\'src\\',\\'HTTPS://www.documentchecker.com/rdo.dll/getpict?PictName=Paspoorten/A/AFG/AFG_P6/JPG/AFG_P6_Coverthumbnail&username=Demo Slope.User&cookieid=\\');\"';\n }\n s += '>';\n s += '<a href=\"javascript:onClickThumbnail(\\'AFG\\',\\'P6\\',\\'P\\'); void 0;\"><img class=\"default\" src=\"HTTPS://www.documentchecker.com/rdo.dll/getpict?PictName=Paspoorten/A/AFG/AFG_P6/JPG/AFG_P6_Coverthumbnail&username=Demo Slope.User&cookieid=\"></a>';\n s += '</div>';\n document.write(s);\n </script><div class=\"image\" onmouseout=\"$(this).find('img').attr('src','HTTPS://www.documentchecker.com/rdo.dll/getpict?PictName=Paspoorten/A/AFG/AFG_P6/JPG/AFG_P6_Coverthumbnail&amp;username=Demo Slope.User&amp;cookieid=');\" onmouseover=\"$(this).find('img').attr('src','HTTPS://www.documentchecker.com/rdo.dll/getpict?PictName=Paspoorten/A/AFG/AFG_P6/JPG/AFG_P6_Datapagethumbnail');\"><a href=\"javascript:onClickThumbnail('AFG','P6','P'); void 0;\"><img class=\"default\" src=\"HTTPS://www.documentchecker.com/rdo.dll/getpict?PictName=Paspoorten/A/AFG/AFG_P6/JPG/AFG_P6_Coverthumbnail&amp;username=Demo Slope.User&amp;cookieid=\"/></a></div>\n <div class=\"info\">\n <a href=\"javascript: onClickThumbnail('AFG','P6','P'); void 0;\">\n <b>P6</b>\n </a>\n <script>\t\n if (0)\n {\n \tdocument.write('&#160;<a href=\"JavaScript:void 0\" onClick=\"JSViewAnnotationHelper(\\'AFG\\',\\'P6\\'); return false;\" onMouseOver=\"window.status = \\'\\'; return true;\" onMouseOut =\"window.status = \\'\\'; return true;\"><img border=\"0\" src=\"HTTPS://www.documentchecker.com/rdo.dll/getartwork?pictname=img/annotation.gif\" alt=\"note text\"></a>&nbsp;');\n }\n </script>\n <br/>\n <div class=\"IdTypeText\" title=\"ordinary passport\">ordinary passport</div>\n 1992\n </div>\n </div>,\n <div class=\"thumbcontainer\">\n <script>\n s = '<div class=\"image\" ';\n if (1) \n {\n s += ' onMouseOver=\"$(this).find(\\'img\\').attr(\\'src\\',\\'HTTPS://www.documentchecker.com/rdo.dll/getpict?PictName=Paspoorten/A/AFG/AFG_P4/JPG/AFG_P4_Datapagethumbnail\\');\" onMouseOut=\"$(this).find(\\'img\\').attr(\\'src\\',\\'HTTPS://www.documentchecker.com/rdo.dll/getpict?PictName=Paspoorten/A/AFG/AFG_P4/JPG/AFG_P4_Coverthumbnail&username=Demo Slope.User&cookieid=\\');\"';\n }\n s += '>';\n s += '<a href=\"javascript:onClickThumbnail(\\'AFG\\',\\'P4\\',\\'P\\'); void 0;\"><img class=\"default\" src=\"HTTPS://www.documentchecker.com/rdo.dll/getpict?PictName=Paspoorten/A/AFG/AFG_P4/JPG/AFG_P4_Coverthumbnail&username=Demo Slope.User&cookieid=\"></a>';\n s += '</div>';\n document.write(s);\n </script><div class=\"image\" onmouseout=\"$(this).find('img').attr('src','HTTPS://www.documentchecker.com/rdo.dll/getpict?PictName=Paspoorten/A/AFG/AFG_P4/JPG/AFG_P4_Coverthumbnail&amp;username=Demo Slope.User&amp;cookieid=');\" onmouseover=\"$(this).find('img').attr('src','HTTPS://www.documentchecker.com/rdo.dll/getpict?PictName=Paspoorten/A/AFG/AFG_P4/JPG/AFG_P4_Datapagethumbnail');\"><a href=\"javascript:onClickThumbnail('AFG','P4','P'); void 0;\"><img class=\"default\" src=\"HTTPS://www.documentchecker.com/rdo.dll/getpict?PictName=Paspoorten/A/AFG/AFG_P4/JPG/AFG_P4_Coverthumbnail&amp;username=Demo Slope.User&amp;cookieid=\"/></a></div>\n <div class=\"info\">\n <a href=\"javascript: onClickThumbnail('AFG','P4','P'); void 0;\">\n <b>P4</b>\n </a>\n <script>\t\n if (0)\n {\n \tdocument.write('&#160;<a href=\"JavaScript:void 0\" onClick=\"JSViewAnnotationHelper(\\'AFG\\',\\'P4\\'); return false;\" onMouseOver=\"window.status = \\'\\'; return true;\" onMouseOut =\"window.status = \\'\\'; return true;\"><img border=\"0\" src=\"HTTPS://www.documentchecker.com/rdo.dll/getartwork?pictname=img/annotation.gif\" alt=\"note text\"></a>&nbsp;');\n }\n </script>\n <br/>\n <div class=\"IdTypeText\" title=\"student’s passport\">student’s passport</div>\n 1992\n </div>\n </div>,\n <div class=\"thumbcontainer\">\n <script>\n s = '<div class=\"image\" ';\n if (1) \n {\n s += ' onMouseOver=\"$(this).find(\\'img\\').attr(\\'src\\',\\'HTTPS://www.documentchecker.com/rdo.dll/getpict?PictName=Paspoorten/A/AFG/AFG_P2/JPG/AFG_P2_Datapagethumbnail\\');\" onMouseOut=\"$(this).find(\\'img\\').attr(\\'src\\',\\'HTTPS://www.documentchecker.com/rdo.dll/getpict?PictName=Paspoorten/A/AFG/AFG_P2/JPG/AFG_P2_Coverthumbnail&username=Demo Slope.User&cookieid=\\');\"';\n }\n s += '>';\n s += '<a href=\"javascript:onClickThumbnail(\\'AFG\\',\\'P2\\',\\'P\\'); void 0;\"><img class=\"default\" src=\"HTTPS://www.documentchecker.com/rdo.dll/getpict?PictName=Paspoorten/A/AFG/AFG_P2/JPG/AFG_P2_Coverthumbnail&username=Demo Slope.User&cookieid=\"></a>';\n s += '</div>';\n document.write(s);\n </script><div class=\"image\" onmouseout=\"$(this).find('img').attr('src','HTTPS://www.documentchecker.com/rdo.dll/getpict?PictName=Paspoorten/A/AFG/AFG_P2/JPG/AFG_P2_Coverthumbnail&amp;username=Demo Slope.User&amp;cookieid=');\" onmouseover=\"$(this).find('img').attr('src','HTTPS://www.documentchecker.com/rdo.dll/getpict?PictName=Paspoorten/A/AFG/AFG_P2/JPG/AFG_P2_Datapagethumbnail');\"><a href=\"javascript:onClickThumbnail('AFG','P2','P'); void 0;\"><img class=\"default\" src=\"HTTPS://www.documentchecker.com/rdo.dll/getpict?PictName=Paspoorten/A/AFG/AFG_P2/JPG/AFG_P2_Coverthumbnail&amp;username=Demo Slope.User&amp;cookieid=\"/></a></div>\n <div class=\"info\">\n <a href=\"javascript: onClickThumbnail('AFG','P2','P'); void 0;\">\n <b>P2</b>\n </a>\n <script>\t\n if (0)\n {\n \tdocument.write('&#160;<a href=\"JavaScript:void 0\" onClick=\"JSViewAnnotationHelper(\\'AFG\\',\\'P2\\'); return false;\" onMouseOver=\"window.status = \\'\\'; return true;\" onMouseOut =\"window.status = \\'\\'; return true;\"><img border=\"0\" src=\"HTTPS://www.documentchecker.com/rdo.dll/getartwork?pictname=img/annotation.gif\" alt=\"note text\"></a>&nbsp;');\n }\n </script>\n <br/>\n <div class=\"IdTypeText\" title=\"ordinary passport\">ordinary passport</div>\n 1992\n </div>\n </div>,\n <div class=\"thumbcontainer\">\n <script>\n s = '<div class=\"image\" ';\n if (1) \n {\n s += ' onMouseOver=\"$(this).find(\\'img\\').attr(\\'src\\',\\'HTTPS://www.documentchecker.com/rdo.dll/getpict?PictName=Paspoorten/A/AFG/AFG_P1/JPG/AFG_P1_Datapagethumbnail\\');\" onMouseOut=\"$(this).find(\\'img\\').attr(\\'src\\',\\'HTTPS://www.documentchecker.com/rdo.dll/getpict?PictName=Paspoorten/A/AFG/AFG_P1/JPG/AFG_P1_Coverthumbnail&username=Demo Slope.User&cookieid=\\');\"';\n }\n s += '>';\n s += '<a href=\"javascript:onClickThumbnail(\\'AFG\\',\\'P1\\',\\'P\\'); void 0;\"><img class=\"default\" src=\"HTTPS://www.documentchecker.com/rdo.dll/getpict?PictName=Paspoorten/A/AFG/AFG_P1/JPG/AFG_P1_Coverthumbnail&username=Demo Slope.User&cookieid=\"></a>';\n s += '</div>';\n document.write(s);\n </script><div class=\"image\" onmouseout=\"$(this).find('img').attr('src','HTTPS://www.documentchecker.com/rdo.dll/getpict?PictName=Paspoorten/A/AFG/AFG_P1/JPG/AFG_P1_Coverthumbnail&amp;username=Demo Slope.User&amp;cookieid=');\" onmouseover=\"$(this).find('img').attr('src','HTTPS://www.documentchecker.com/rdo.dll/getpict?PictName=Paspoorten/A/AFG/AFG_P1/JPG/AFG_P1_Datapagethumbnail');\"><a href=\"javascript:onClickThumbnail('AFG','P1','P'); void 0;\"><img class=\"default\" src=\"HTTPS://www.documentchecker.com/rdo.dll/getpict?PictName=Paspoorten/A/AFG/AFG_P1/JPG/AFG_P1_Coverthumbnail&amp;username=Demo Slope.User&amp;cookieid=\"/></a></div>\n <div class=\"info\">\n <a href=\"javascript: onClickThumbnail('AFG','P1','P'); void 0;\">\n <b>P1</b>\n </a>\n <script>\t\n if (0)\n {\n \tdocument.write('&#160;<a href=\"JavaScript:void 0\" onClick=\"JSViewAnnotationHelper(\\'AFG\\',\\'P1\\'); return false;\" onMouseOver=\"window.status = \\'\\'; return true;\" onMouseOut =\"window.status = \\'\\'; return true;\"><img border=\"0\" src=\"HTTPS://www.documentchecker.com/rdo.dll/getartwork?pictname=img/annotation.gif\" alt=\"note text\"></a>&nbsp;');\n }\n </script>\n <br/>\n <div class=\"IdTypeText\" title=\"ordinary passport\">ordinary passport</div>\n 1992\n </div>\n </div>,\n <div class=\"thumbcontainer\">\n <script>\n s = '<div class=\"image\" ';\n if (1) \n {\n s += ' onMouseOver=\"$(this).find(\\'img\\').attr(\\'src\\',\\'HTTPS://www.documentchecker.com/rdo.dll/getpict?PictName=Paspoorten/A/AFG/AFG_P3/JPG/AFG_P3_Datapagethumbnail\\');\" onMouseOut=\"$(this).find(\\'img\\').attr(\\'src\\',\\'HTTPS://www.documentchecker.com/rdo.dll/getpict?PictName=Paspoorten/A/AFG/AFG_P3/JPG/AFG_P3_Coverthumbnail&username=Demo Slope.User&cookieid=\\');\"';\n }\n s += '>';\n s += '<a href=\"javascript:onClickThumbnail(\\'AFG\\',\\'P3\\',\\'P\\'); void 0;\"><img class=\"default\" src=\"HTTPS://www.documentchecker.com/rdo.dll/getpict?PictName=Paspoorten/A/AFG/AFG_P3/JPG/AFG_P3_Coverthumbnail&username=Demo Slope.User&cookieid=\"></a>';\n s += '</div>';\n document.write(s);\n </script><div class=\"image\" onmouseout=\"$(this).find('img').attr('src','HTTPS://www.documentchecker.com/rdo.dll/getpict?PictName=Paspoorten/A/AFG/AFG_P3/JPG/AFG_P3_Coverthumbnail&amp;username=Demo Slope.User&amp;cookieid=');\" onmouseover=\"$(this).find('img').attr('src','HTTPS://www.documentchecker.com/rdo.dll/getpict?PictName=Paspoorten/A/AFG/AFG_P3/JPG/AFG_P3_Datapagethumbnail');\"><a href=\"javascript:onClickThumbnail('AFG','P3','P'); void 0;\"><img class=\"default\" src=\"HTTPS://www.documentchecker.com/rdo.dll/getpict?PictName=Paspoorten/A/AFG/AFG_P3/JPG/AFG_P3_Coverthumbnail&amp;username=Demo Slope.User&amp;cookieid=\"/></a></div>\n <div class=\"info\">\n <a href=\"javascript: onClickThumbnail('AFG','P3','P'); void 0;\">\n <b>P3</b>\n </a>\n <script>\t\n if (0)\n {\n \tdocument.write('&#160;<a href=\"JavaScript:void 0\" onClick=\"JSViewAnnotationHelper(\\'AFG\\',\\'P3\\'); return false;\" onMouseOver=\"window.status = \\'\\'; return true;\" onMouseOut =\"window.status = \\'\\'; return true;\"><img border=\"0\" src=\"HTTPS://www.documentchecker.com/rdo.dll/getartwork?pictname=img/annotation.gif\" alt=\"note text\"></a>&nbsp;');\n }\n </script>\n <br/>\n <div class=\"IdTypeText\" title=\"ordinary passport\">ordinary passport</div>\n </div>\n </div>]"
     },
     "execution_count": 25,
     "metadata": {},
     "output_type": "execute_result"
    }
   ],
   "source": [
    "containers"
   ],
   "metadata": {
    "collapsed": false
   }
  },
  {
   "cell_type": "code",
   "execution_count": 8,
   "outputs": [],
   "source": [
    "container = containers[0]"
   ],
   "metadata": {
    "collapsed": false
   }
  },
  {
   "cell_type": "code",
   "execution_count": 9,
   "outputs": [],
   "source": [
    "info = container.find('div', class_='info')"
   ],
   "metadata": {
    "collapsed": false
   }
  },
  {
   "cell_type": "code",
   "execution_count": 10,
   "outputs": [],
   "source": [
    "a = info.find('a')"
   ],
   "metadata": {
    "collapsed": false
   }
  },
  {
   "cell_type": "code",
   "execution_count": 11,
   "outputs": [],
   "source": [
    "a.href"
   ],
   "metadata": {
    "collapsed": false
   }
  },
  {
   "cell_type": "code",
   "execution_count": 13,
   "outputs": [],
   "source": [
    "info_tuple = eval(a.attrs['href'].split('onClickThumbnail(')[-1].split(');')[0])"
   ],
   "metadata": {
    "collapsed": false
   }
  },
  {
   "cell_type": "markdown",
   "source": [],
   "metadata": {
    "collapsed": false
   }
  },
  {
   "cell_type": "code",
   "execution_count": 1,
   "outputs": [],
   "source": [
    "template = 'https://www.documentchecker.com/rdo.dll/getdoc?docname=KDI_SHOWDOC&username=Demo Slope.User&cookieid=&language=1033&CountryCode=ALB&SerieNr=P4&IDType=P'"
   ],
   "metadata": {
    "collapsed": false
   }
  },
  {
   "cell_type": "code",
   "execution_count": 14,
   "outputs": [
    {
     "data": {
      "text/plain": "('AFG', 'P8', 'P')"
     },
     "execution_count": 14,
     "metadata": {},
     "output_type": "execute_result"
    }
   ],
   "source": [
    "info_tuple"
   ],
   "metadata": {
    "collapsed": false
   }
  },
  {
   "cell_type": "code",
   "execution_count": 15,
   "outputs": [],
   "source": [
    "country_code, serie_number, id_type = info_tuple"
   ],
   "metadata": {
    "collapsed": false
   }
  },
  {
   "cell_type": "code",
   "execution_count": 16,
   "outputs": [],
   "source": [
    "target_url = f'https://www.documentchecker.com/rdo.dll/getdoc?docname=KDI_SHOWDOC&username=Demo Slope.User&cookieid=&language=1033&CountryCode={country_code}&SerieNr={serie_number}&IDType={id_type}'"
   ],
   "metadata": {
    "collapsed": false
   }
  },
  {
   "cell_type": "code",
   "execution_count": 17,
   "outputs": [
    {
     "data": {
      "text/plain": "'https://www.documentchecker.com/rdo.dll/getdoc?docname=KDI_SHOWDOC&username=Demo Slope.User&cookieid=&language=1033&CountryCode=AFG&SerieNr=P8&IDType=P'"
     },
     "execution_count": 17,
     "metadata": {},
     "output_type": "execute_result"
    }
   ],
   "source": [
    "target_url"
   ],
   "metadata": {
    "collapsed": false
   }
  },
  {
   "cell_type": "code",
   "execution_count": 28,
   "outputs": [],
   "source": [
    "def get_nation_passport_url(html_str):\n",
    "    html_str = html_str.split('<!-- Emergency passports -->')[0]\n",
    "    html_str = html_str.split('<!-- National Passports -->')[-1]\n",
    "    soup = BeautifulSoup(html_str, 'html.parser')\n",
    "    containers = soup.find_all('div', class_='thumbcontainer')\n",
    "    url_list = []\n",
    "    for container in containers:\n",
    "        info = container.find('div', class_='info')\n",
    "        a = info.find('a')\n",
    "        info_tuple = eval(a.attrs['href'].split('onClickThumbnail(')[-1].split(');')[0])\n",
    "        country_code, serie_number, id_type = info_tuple\n",
    "        target_url = f'https://www.documentchecker.com/rdo.dll/getdoc?docname=KDI_SHOWDOC&username=Demo Slope.User&cookieid=&language=1033&CountryCode={country_code}&SerieNr={serie_number}&IDType={id_type}'\n",
    "        url_list.append(target_url)\n",
    "\n",
    "    return url_list"
   ],
   "metadata": {
    "collapsed": false
   }
  },
  {
   "cell_type": "code",
   "execution_count": 29,
   "outputs": [],
   "source": [
    "html_path = '../data/test.html'\n",
    "with open(html_path, 'r') as f:\n",
    "    html_str = f.read()\n",
    "res = get_nation_passport_url(html_str)"
   ],
   "metadata": {
    "collapsed": false
   }
  },
  {
   "cell_type": "code",
   "execution_count": 30,
   "outputs": [
    {
     "data": {
      "text/plain": "8"
     },
     "execution_count": 30,
     "metadata": {},
     "output_type": "execute_result"
    }
   ],
   "source": [
    "len(res)"
   ],
   "metadata": {
    "collapsed": false
   }
  },
  {
   "cell_type": "code",
   "execution_count": 31,
   "outputs": [
    {
     "data": {
      "text/plain": "['https://www.documentchecker.com/rdo.dll/getdoc?docname=KDI_SHOWDOC&username=Demo Slope.User&cookieid=&language=1033&CountryCode=AFG&SerieNr=P8&IDType=P',\n 'https://www.documentchecker.com/rdo.dll/getdoc?docname=KDI_SHOWDOC&username=Demo Slope.User&cookieid=&language=1033&CountryCode=AFG&SerieNr=P7&IDType=P',\n 'https://www.documentchecker.com/rdo.dll/getdoc?docname=KDI_SHOWDOC&username=Demo Slope.User&cookieid=&language=1033&CountryCode=AFG&SerieNr=P5&IDType=P',\n 'https://www.documentchecker.com/rdo.dll/getdoc?docname=KDI_SHOWDOC&username=Demo Slope.User&cookieid=&language=1033&CountryCode=AFG&SerieNr=P6&IDType=P',\n 'https://www.documentchecker.com/rdo.dll/getdoc?docname=KDI_SHOWDOC&username=Demo Slope.User&cookieid=&language=1033&CountryCode=AFG&SerieNr=P4&IDType=P',\n 'https://www.documentchecker.com/rdo.dll/getdoc?docname=KDI_SHOWDOC&username=Demo Slope.User&cookieid=&language=1033&CountryCode=AFG&SerieNr=P2&IDType=P',\n 'https://www.documentchecker.com/rdo.dll/getdoc?docname=KDI_SHOWDOC&username=Demo Slope.User&cookieid=&language=1033&CountryCode=AFG&SerieNr=P1&IDType=P',\n 'https://www.documentchecker.com/rdo.dll/getdoc?docname=KDI_SHOWDOC&username=Demo Slope.User&cookieid=&language=1033&CountryCode=AFG&SerieNr=P3&IDType=P']"
     },
     "execution_count": 31,
     "metadata": {},
     "output_type": "execute_result"
    }
   ],
   "source": [
    "res"
   ],
   "metadata": {
    "collapsed": false
   }
  },
  {
   "cell_type": "code",
   "execution_count": null,
   "outputs": [],
   "source": [],
   "metadata": {
    "collapsed": false,
    "pycharm": {
     "name": "#%%u\n"
    }
   }
  }
 ],
 "metadata": {
  "kernelspec": {
   "display_name": "Python 3",
   "language": "python",
   "name": "python3"
  },
  "language_info": {
   "codemirror_mode": {
    "name": "ipython",
    "version": 2
   },
   "file_extension": ".py",
   "mimetype": "text/x-python",
   "name": "python",
   "nbconvert_exporter": "python",
   "pygments_lexer": "ipython2",
   "version": "2.7.6"
  }
 },
 "nbformat": 4,
 "nbformat_minor": 0
}
