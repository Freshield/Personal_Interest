{
 "cells": [
  {
   "cell_type": "code",
   "execution_count": 10,
   "metadata": {
    "collapsed": true
   },
   "outputs": [],
   "source": [
    "import json\n",
    "from bs4 import BeautifulSoup"
   ]
  },
  {
   "cell_type": "code",
   "execution_count": 11,
   "outputs": [],
   "source": [
    "with open('../data/test_id_home.html', 'r') as f:\n",
    "    html_str = f.read()\n",
    "soup = BeautifulSoup(html_str, 'html.parser')"
   ],
   "metadata": {
    "collapsed": false
   }
  },
  {
   "cell_type": "code",
   "execution_count": 12,
   "outputs": [],
   "source": [
    "div = soup.find('div', id='tabsmain-3')\n",
    "containers = div.find_all('div', class_='thumbcontainer')"
   ],
   "metadata": {
    "collapsed": false
   }
  },
  {
   "cell_type": "code",
   "execution_count": 13,
   "outputs": [
    {
     "data": {
      "text/plain": "1"
     },
     "execution_count": 13,
     "metadata": {},
     "output_type": "execute_result"
    }
   ],
   "source": [
    "len(containers)"
   ],
   "metadata": {
    "collapsed": false
   }
  },
  {
   "cell_type": "code",
   "execution_count": 14,
   "outputs": [],
   "source": [
    "container = containers[0]"
   ],
   "metadata": {
    "collapsed": false
   }
  },
  {
   "cell_type": "code",
   "execution_count": 16,
   "outputs": [],
   "source": [
    "def get_id_card_url(html_str):\n",
    "    soup = BeautifulSoup(html_str, 'html.parser')\n",
    "    div = soup.find('div', id='tabsmain-3')\n",
    "    containers = div.find_all('div', class_='thumbcontainer')\n",
    "    url_list = []\n",
    "    for container in containers:\n",
    "        info = container.find('div', class_='info')\n",
    "        a = info.find('a')\n",
    "        info_tuple = eval(a.attrs['href'].split('onClickThumbnail(')[-1].split(');')[0])\n",
    "        country_code, serie_number, id_type = info_tuple\n",
    "        target_url = f'https://www.documentchecker.com/rdo.dll/getdoc?docname=KDI_SHOWDOC&username=Demo Slope.User&cookieid=&language=1033&CountryCode={country_code}&SerieNr={serie_number}&IDType={id_type}'\n",
    "        url_list.append(target_url)\n",
    "\n",
    "    return url_list\n"
   ],
   "metadata": {
    "collapsed": false
   }
  },
  {
   "cell_type": "code",
   "execution_count": 17,
   "outputs": [
    {
     "data": {
      "text/plain": "['https://www.documentchecker.com/rdo.dll/getdoc?docname=KDI_SHOWDOC&username=Demo Slope.User&cookieid=&language=1033&CountryCode=IRL&SerieNr=I1&IDType=I']"
     },
     "execution_count": 17,
     "metadata": {},
     "output_type": "execute_result"
    }
   ],
   "source": [
    "get_id_card_url(html_str)"
   ],
   "metadata": {
    "collapsed": false
   }
  },
  {
   "cell_type": "code",
   "execution_count": null,
   "outputs": [],
   "source": [],
   "metadata": {
    "collapsed": false
   }
  }
 ],
 "metadata": {
  "kernelspec": {
   "display_name": "Python 3",
   "language": "python",
   "name": "python3"
  },
  "language_info": {
   "codemirror_mode": {
    "name": "ipython",
    "version": 2
   },
   "file_extension": ".py",
   "mimetype": "text/x-python",
   "name": "python",
   "nbconvert_exporter": "python",
   "pygments_lexer": "ipython2",
   "version": "2.7.6"
  }
 },
 "nbformat": 4,
 "nbformat_minor": 0
}
